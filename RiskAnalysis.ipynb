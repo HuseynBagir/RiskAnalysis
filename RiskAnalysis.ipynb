{
 "cells": [
  {
   "cell_type": "code",
   "execution_count": 5,
   "id": "e2b34766",
   "metadata": {},
   "outputs": [],
   "source": [
    "import pandas as pd\n",
    "import numpy as np\n",
    "import matplotlib.pyplot as plt\n",
    "import seaborn as sns\n",
    "import re\n",
    "from sklearn.preprocessing import StandardScaler"
   ]
  },
  {
   "cell_type": "code",
   "execution_count": 2,
   "id": "690c2483",
   "metadata": {},
   "outputs": [
    {
     "data": {
      "text/html": [
       "<div>\n",
       "<style scoped>\n",
       "    .dataframe tbody tr th:only-of-type {\n",
       "        vertical-align: middle;\n",
       "    }\n",
       "\n",
       "    .dataframe tbody tr th {\n",
       "        vertical-align: top;\n",
       "    }\n",
       "\n",
       "    .dataframe thead th {\n",
       "        text-align: right;\n",
       "    }\n",
       "</style>\n",
       "<table border=\"1\" class=\"dataframe\">\n",
       "  <thead>\n",
       "    <tr style=\"text-align: right;\">\n",
       "      <th></th>\n",
       "      <th>Loan ID</th>\n",
       "      <th>Payment</th>\n",
       "      <th>Loan Type</th>\n",
       "      <th>Gender</th>\n",
       "      <th>Have a car?</th>\n",
       "      <th>Have a house</th>\n",
       "      <th>Number of Children</th>\n",
       "      <th>Total Income</th>\n",
       "      <th>Amount of Credit</th>\n",
       "      <th>Suite Type</th>\n",
       "      <th>Income Type</th>\n",
       "      <th>Education Type</th>\n",
       "      <th>Family Status</th>\n",
       "      <th>Have a phone?</th>\n",
       "      <th>Have a mail?</th>\n",
       "      <th>Profession</th>\n",
       "      <th>Number of family members</th>\n",
       "      <th>Organization</th>\n",
       "    </tr>\n",
       "  </thead>\n",
       "  <tbody>\n",
       "    <tr>\n",
       "      <th>0</th>\n",
       "      <td>100002</td>\n",
       "      <td>1</td>\n",
       "      <td>Cash loans</td>\n",
       "      <td>M</td>\n",
       "      <td>N</td>\n",
       "      <td>Y</td>\n",
       "      <td>0</td>\n",
       "      <td>202500.0</td>\n",
       "      <td>406597.5</td>\n",
       "      <td>Unaccompanied</td>\n",
       "      <td>Working</td>\n",
       "      <td>Secondary / secondary special</td>\n",
       "      <td>Single / not married</td>\n",
       "      <td>1</td>\n",
       "      <td>0</td>\n",
       "      <td>Laborers</td>\n",
       "      <td>1.0</td>\n",
       "      <td>Business Entity Type 3</td>\n",
       "    </tr>\n",
       "    <tr>\n",
       "      <th>1</th>\n",
       "      <td>100003</td>\n",
       "      <td>0</td>\n",
       "      <td>Cash loans</td>\n",
       "      <td>F</td>\n",
       "      <td>N</td>\n",
       "      <td>N</td>\n",
       "      <td>0</td>\n",
       "      <td>270000.0</td>\n",
       "      <td>1293502.5</td>\n",
       "      <td>Family</td>\n",
       "      <td>State servant</td>\n",
       "      <td>Higher education</td>\n",
       "      <td>Married</td>\n",
       "      <td>1</td>\n",
       "      <td>0</td>\n",
       "      <td>Core staff</td>\n",
       "      <td>2.0</td>\n",
       "      <td>School</td>\n",
       "    </tr>\n",
       "    <tr>\n",
       "      <th>2</th>\n",
       "      <td>100004</td>\n",
       "      <td>0</td>\n",
       "      <td>Revolving loans</td>\n",
       "      <td>M</td>\n",
       "      <td>Y</td>\n",
       "      <td>Y</td>\n",
       "      <td>0</td>\n",
       "      <td>67500.0</td>\n",
       "      <td>135000.0</td>\n",
       "      <td>Unaccompanied</td>\n",
       "      <td>Working</td>\n",
       "      <td>Secondary / secondary special</td>\n",
       "      <td>Single / not married</td>\n",
       "      <td>1</td>\n",
       "      <td>0</td>\n",
       "      <td>Laborers</td>\n",
       "      <td>1.0</td>\n",
       "      <td>Government</td>\n",
       "    </tr>\n",
       "    <tr>\n",
       "      <th>3</th>\n",
       "      <td>100006</td>\n",
       "      <td>0</td>\n",
       "      <td>Cash loans</td>\n",
       "      <td>F</td>\n",
       "      <td>N</td>\n",
       "      <td>Y</td>\n",
       "      <td>0</td>\n",
       "      <td>135000.0</td>\n",
       "      <td>312682.5</td>\n",
       "      <td>Unaccompanied</td>\n",
       "      <td>Working</td>\n",
       "      <td>Secondary / secondary special</td>\n",
       "      <td>Civil marriage</td>\n",
       "      <td>1</td>\n",
       "      <td>0</td>\n",
       "      <td>Laborers</td>\n",
       "      <td>2.0</td>\n",
       "      <td>Business Entity Type 3</td>\n",
       "    </tr>\n",
       "    <tr>\n",
       "      <th>4</th>\n",
       "      <td>100007</td>\n",
       "      <td>0</td>\n",
       "      <td>Cash loans</td>\n",
       "      <td>M</td>\n",
       "      <td>N</td>\n",
       "      <td>Y</td>\n",
       "      <td>0</td>\n",
       "      <td>121500.0</td>\n",
       "      <td>513000.0</td>\n",
       "      <td>Unaccompanied</td>\n",
       "      <td>Working</td>\n",
       "      <td>Secondary / secondary special</td>\n",
       "      <td>Single / not married</td>\n",
       "      <td>1</td>\n",
       "      <td>0</td>\n",
       "      <td>Core staff</td>\n",
       "      <td>1.0</td>\n",
       "      <td>Religion</td>\n",
       "    </tr>\n",
       "    <tr>\n",
       "      <th>5</th>\n",
       "      <td>100008</td>\n",
       "      <td>0</td>\n",
       "      <td>Cash loans</td>\n",
       "      <td>M</td>\n",
       "      <td>N</td>\n",
       "      <td>Y</td>\n",
       "      <td>0</td>\n",
       "      <td>99000.0</td>\n",
       "      <td>490495.5</td>\n",
       "      <td>Spouse, partner</td>\n",
       "      <td>State servant</td>\n",
       "      <td>Secondary / secondary special</td>\n",
       "      <td>Married</td>\n",
       "      <td>1</td>\n",
       "      <td>0</td>\n",
       "      <td>Laborers</td>\n",
       "      <td>2.0</td>\n",
       "      <td>Other</td>\n",
       "    </tr>\n",
       "    <tr>\n",
       "      <th>6</th>\n",
       "      <td>100009</td>\n",
       "      <td>0</td>\n",
       "      <td>Cash loans</td>\n",
       "      <td>F</td>\n",
       "      <td>Y</td>\n",
       "      <td>Y</td>\n",
       "      <td>1</td>\n",
       "      <td>171000.0</td>\n",
       "      <td>1560726.0</td>\n",
       "      <td>Unaccompanied</td>\n",
       "      <td>Commercial associate</td>\n",
       "      <td>Higher education</td>\n",
       "      <td>Married</td>\n",
       "      <td>1</td>\n",
       "      <td>0</td>\n",
       "      <td>Accountants</td>\n",
       "      <td>3.0</td>\n",
       "      <td>Business Entity Type 3</td>\n",
       "    </tr>\n",
       "    <tr>\n",
       "      <th>7</th>\n",
       "      <td>100010</td>\n",
       "      <td>0</td>\n",
       "      <td>Cash loans</td>\n",
       "      <td>M</td>\n",
       "      <td>Y</td>\n",
       "      <td>Y</td>\n",
       "      <td>0</td>\n",
       "      <td>360000.0</td>\n",
       "      <td>1530000.0</td>\n",
       "      <td>Unaccompanied</td>\n",
       "      <td>State servant</td>\n",
       "      <td>Higher education</td>\n",
       "      <td>Married</td>\n",
       "      <td>1</td>\n",
       "      <td>0</td>\n",
       "      <td>Managers</td>\n",
       "      <td>2.0</td>\n",
       "      <td>Other</td>\n",
       "    </tr>\n",
       "    <tr>\n",
       "      <th>8</th>\n",
       "      <td>100011</td>\n",
       "      <td>0</td>\n",
       "      <td>Cash loans</td>\n",
       "      <td>F</td>\n",
       "      <td>N</td>\n",
       "      <td>Y</td>\n",
       "      <td>0</td>\n",
       "      <td>112500.0</td>\n",
       "      <td>1019610.0</td>\n",
       "      <td>Children</td>\n",
       "      <td>Pensioner</td>\n",
       "      <td>Secondary / secondary special</td>\n",
       "      <td>Married</td>\n",
       "      <td>0</td>\n",
       "      <td>0</td>\n",
       "      <td>NaN</td>\n",
       "      <td>2.0</td>\n",
       "      <td>XNA</td>\n",
       "    </tr>\n",
       "    <tr>\n",
       "      <th>9</th>\n",
       "      <td>100012</td>\n",
       "      <td>0</td>\n",
       "      <td>Revolving loans</td>\n",
       "      <td>M</td>\n",
       "      <td>N</td>\n",
       "      <td>Y</td>\n",
       "      <td>0</td>\n",
       "      <td>135000.0</td>\n",
       "      <td>405000.0</td>\n",
       "      <td>Unaccompanied</td>\n",
       "      <td>Working</td>\n",
       "      <td>Secondary / secondary special</td>\n",
       "      <td>Single / not married</td>\n",
       "      <td>1</td>\n",
       "      <td>0</td>\n",
       "      <td>Laborers</td>\n",
       "      <td>1.0</td>\n",
       "      <td>Electricity</td>\n",
       "    </tr>\n",
       "  </tbody>\n",
       "</table>\n",
       "</div>"
      ],
      "text/plain": [
       "   Loan ID  Payment        Loan Type Gender Have a car? Have a house  \\\n",
       "0   100002        1       Cash loans      M           N            Y   \n",
       "1   100003        0       Cash loans      F           N            N   \n",
       "2   100004        0  Revolving loans      M           Y            Y   \n",
       "3   100006        0       Cash loans      F           N            Y   \n",
       "4   100007        0       Cash loans      M           N            Y   \n",
       "5   100008        0       Cash loans      M           N            Y   \n",
       "6   100009        0       Cash loans      F           Y            Y   \n",
       "7   100010        0       Cash loans      M           Y            Y   \n",
       "8   100011        0       Cash loans      F           N            Y   \n",
       "9   100012        0  Revolving loans      M           N            Y   \n",
       "\n",
       "   Number of Children  Total Income  Amount of Credit       Suite Type  \\\n",
       "0                   0      202500.0          406597.5    Unaccompanied   \n",
       "1                   0      270000.0         1293502.5           Family   \n",
       "2                   0       67500.0          135000.0    Unaccompanied   \n",
       "3                   0      135000.0          312682.5    Unaccompanied   \n",
       "4                   0      121500.0          513000.0    Unaccompanied   \n",
       "5                   0       99000.0          490495.5  Spouse, partner   \n",
       "6                   1      171000.0         1560726.0    Unaccompanied   \n",
       "7                   0      360000.0         1530000.0    Unaccompanied   \n",
       "8                   0      112500.0         1019610.0         Children   \n",
       "9                   0      135000.0          405000.0    Unaccompanied   \n",
       "\n",
       "            Income Type                 Education Type         Family Status  \\\n",
       "0               Working  Secondary / secondary special  Single / not married   \n",
       "1         State servant               Higher education               Married   \n",
       "2               Working  Secondary / secondary special  Single / not married   \n",
       "3               Working  Secondary / secondary special        Civil marriage   \n",
       "4               Working  Secondary / secondary special  Single / not married   \n",
       "5         State servant  Secondary / secondary special               Married   \n",
       "6  Commercial associate               Higher education               Married   \n",
       "7         State servant               Higher education               Married   \n",
       "8             Pensioner  Secondary / secondary special               Married   \n",
       "9               Working  Secondary / secondary special  Single / not married   \n",
       "\n",
       "   Have a phone?  Have a mail?   Profession  Number of family members  \\\n",
       "0              1             0     Laborers                       1.0   \n",
       "1              1             0   Core staff                       2.0   \n",
       "2              1             0     Laborers                       1.0   \n",
       "3              1             0     Laborers                       2.0   \n",
       "4              1             0   Core staff                       1.0   \n",
       "5              1             0     Laborers                       2.0   \n",
       "6              1             0  Accountants                       3.0   \n",
       "7              1             0     Managers                       2.0   \n",
       "8              0             0          NaN                       2.0   \n",
       "9              1             0     Laborers                       1.0   \n",
       "\n",
       "             Organization  \n",
       "0  Business Entity Type 3  \n",
       "1                  School  \n",
       "2              Government  \n",
       "3  Business Entity Type 3  \n",
       "4                Religion  \n",
       "5                   Other  \n",
       "6  Business Entity Type 3  \n",
       "7                   Other  \n",
       "8                     XNA  \n",
       "9             Electricity  "
      ]
     },
     "execution_count": 2,
     "metadata": {},
     "output_type": "execute_result"
    }
   ],
   "source": [
    "df = pd.read_csv('Risk Analytics.csv')\n",
    "df.head(10)"
   ]
  },
  {
   "cell_type": "code",
   "execution_count": 3,
   "id": "f23390c2",
   "metadata": {},
   "outputs": [
    {
     "name": "stdout",
     "output_type": "stream",
     "text": [
      "<class 'pandas.core.frame.DataFrame'>\n",
      "RangeIndex: 307511 entries, 0 to 307510\n",
      "Data columns (total 18 columns):\n",
      " #   Column                    Non-Null Count   Dtype  \n",
      "---  ------                    --------------   -----  \n",
      " 0   Loan ID                   307511 non-null  int64  \n",
      " 1   Payment                   307511 non-null  int64  \n",
      " 2   Loan Type                 307511 non-null  object \n",
      " 3   Gender                    307511 non-null  object \n",
      " 4   Have a car?               307511 non-null  object \n",
      " 5   Have a house              307511 non-null  object \n",
      " 6   Number of Children        307511 non-null  int64  \n",
      " 7   Total Income              307511 non-null  float64\n",
      " 8   Amount of Credit          307511 non-null  float64\n",
      " 9   Suite Type                306219 non-null  object \n",
      " 10  Income Type               307511 non-null  object \n",
      " 11  Education Type            307511 non-null  object \n",
      " 12  Family Status             307511 non-null  object \n",
      " 13  Have a phone?             307511 non-null  int64  \n",
      " 14  Have a mail?              307511 non-null  int64  \n",
      " 15  Profession                211120 non-null  object \n",
      " 16  Number of family members  307509 non-null  float64\n",
      " 17  Organization              307511 non-null  object \n",
      "dtypes: float64(3), int64(5), object(10)\n",
      "memory usage: 42.2+ MB\n"
     ]
    }
   ],
   "source": [
    "df.info()"
   ]
  },
  {
   "cell_type": "code",
   "execution_count": 4,
   "id": "9ea7d83d",
   "metadata": {},
   "outputs": [
    {
     "data": {
      "text/plain": [
       "array(['Laborers', 'Core staff', 'Accountants', 'Managers', nan,\n",
       "       'Drivers', 'Sales staff', 'Cleaning staff', 'Cooking staff',\n",
       "       'Private service staff', 'Medicine staff', 'Security staff',\n",
       "       'High skill tech staff', 'Waiters/barmen staff',\n",
       "       'Low-skill Laborers', 'Realty agents', 'Secretaries', 'IT staff',\n",
       "       'HR staff'], dtype=object)"
      ]
     },
     "execution_count": 4,
     "metadata": {},
     "output_type": "execute_result"
    }
   ],
   "source": [
    "df['Profession'].unique()"
   ]
  },
  {
   "cell_type": "code",
   "execution_count": 5,
   "id": "d48889b1",
   "metadata": {},
   "outputs": [
    {
     "name": "stdout",
     "output_type": "stream",
     "text": [
      "<class 'pandas.core.frame.DataFrame'>\n",
      "RangeIndex: 307511 entries, 0 to 307510\n",
      "Data columns (total 18 columns):\n",
      " #   Column                    Non-Null Count   Dtype  \n",
      "---  ------                    --------------   -----  \n",
      " 0   Loan ID                   307511 non-null  int64  \n",
      " 1   Payment                   307511 non-null  int64  \n",
      " 2   Loan Type                 307511 non-null  object \n",
      " 3   Gender                    307511 non-null  object \n",
      " 4   Have a car?               307511 non-null  object \n",
      " 5   Have a house              307511 non-null  object \n",
      " 6   Number of Children        307511 non-null  int64  \n",
      " 7   Total Income              307511 non-null  float64\n",
      " 8   Amount of Credit          307511 non-null  float64\n",
      " 9   Suite Type                306219 non-null  object \n",
      " 10  Income Type               307511 non-null  object \n",
      " 11  Education Type            307511 non-null  object \n",
      " 12  Family Status             307511 non-null  object \n",
      " 13  Have a phone?             307511 non-null  int64  \n",
      " 14  Have a mail?              307511 non-null  int64  \n",
      " 15  Profession                211120 non-null  object \n",
      " 16  Number of family members  307509 non-null  float64\n",
      " 17  Organization              307511 non-null  object \n",
      "dtypes: float64(3), int64(5), object(10)\n",
      "memory usage: 42.2+ MB\n"
     ]
    }
   ],
   "source": [
    "df.info()"
   ]
  },
  {
   "cell_type": "code",
   "execution_count": 6,
   "id": "d2ad0b81",
   "metadata": {},
   "outputs": [
    {
     "data": {
      "text/html": [
       "<div>\n",
       "<style scoped>\n",
       "    .dataframe tbody tr th:only-of-type {\n",
       "        vertical-align: middle;\n",
       "    }\n",
       "\n",
       "    .dataframe tbody tr th {\n",
       "        vertical-align: top;\n",
       "    }\n",
       "\n",
       "    .dataframe thead th {\n",
       "        text-align: right;\n",
       "    }\n",
       "</style>\n",
       "<table border=\"1\" class=\"dataframe\">\n",
       "  <thead>\n",
       "    <tr style=\"text-align: right;\">\n",
       "      <th></th>\n",
       "      <th>Loan ID</th>\n",
       "      <th>Payment</th>\n",
       "      <th>Number of Children</th>\n",
       "      <th>Total Income</th>\n",
       "      <th>Amount of Credit</th>\n",
       "      <th>Have a phone?</th>\n",
       "      <th>Have a mail?</th>\n",
       "      <th>Number of family members</th>\n",
       "    </tr>\n",
       "  </thead>\n",
       "  <tbody>\n",
       "    <tr>\n",
       "      <th>Loan ID</th>\n",
       "      <td>1.000000</td>\n",
       "      <td>-0.002108</td>\n",
       "      <td>-0.001129</td>\n",
       "      <td>-0.001820</td>\n",
       "      <td>-0.000343</td>\n",
       "      <td>-0.001337</td>\n",
       "      <td>0.000281</td>\n",
       "      <td>-0.002895</td>\n",
       "    </tr>\n",
       "    <tr>\n",
       "      <th>Payment</th>\n",
       "      <td>-0.002108</td>\n",
       "      <td>1.000000</td>\n",
       "      <td>0.019187</td>\n",
       "      <td>-0.003982</td>\n",
       "      <td>-0.030369</td>\n",
       "      <td>0.045982</td>\n",
       "      <td>-0.001758</td>\n",
       "      <td>0.009308</td>\n",
       "    </tr>\n",
       "    <tr>\n",
       "      <th>Number of Children</th>\n",
       "      <td>-0.001129</td>\n",
       "      <td>0.019187</td>\n",
       "      <td>1.000000</td>\n",
       "      <td>0.012882</td>\n",
       "      <td>0.002145</td>\n",
       "      <td>0.240714</td>\n",
       "      <td>0.022619</td>\n",
       "      <td>0.879161</td>\n",
       "    </tr>\n",
       "    <tr>\n",
       "      <th>Total Income</th>\n",
       "      <td>-0.001820</td>\n",
       "      <td>-0.003982</td>\n",
       "      <td>0.012882</td>\n",
       "      <td>1.000000</td>\n",
       "      <td>0.156870</td>\n",
       "      <td>0.063994</td>\n",
       "      <td>0.038378</td>\n",
       "      <td>0.016342</td>\n",
       "    </tr>\n",
       "    <tr>\n",
       "      <th>Amount of Credit</th>\n",
       "      <td>-0.000343</td>\n",
       "      <td>-0.030369</td>\n",
       "      <td>0.002145</td>\n",
       "      <td>0.156870</td>\n",
       "      <td>1.000000</td>\n",
       "      <td>0.065519</td>\n",
       "      <td>0.016632</td>\n",
       "      <td>0.063160</td>\n",
       "    </tr>\n",
       "    <tr>\n",
       "      <th>Have a phone?</th>\n",
       "      <td>-0.001337</td>\n",
       "      <td>0.045982</td>\n",
       "      <td>0.240714</td>\n",
       "      <td>0.063994</td>\n",
       "      <td>0.065519</td>\n",
       "      <td>1.000000</td>\n",
       "      <td>0.062542</td>\n",
       "      <td>0.233950</td>\n",
       "    </tr>\n",
       "    <tr>\n",
       "      <th>Have a mail?</th>\n",
       "      <td>0.000281</td>\n",
       "      <td>-0.001758</td>\n",
       "      <td>0.022619</td>\n",
       "      <td>0.038378</td>\n",
       "      <td>0.016632</td>\n",
       "      <td>0.062542</td>\n",
       "      <td>1.000000</td>\n",
       "      <td>0.018081</td>\n",
       "    </tr>\n",
       "    <tr>\n",
       "      <th>Number of family members</th>\n",
       "      <td>-0.002895</td>\n",
       "      <td>0.009308</td>\n",
       "      <td>0.879161</td>\n",
       "      <td>0.016342</td>\n",
       "      <td>0.063160</td>\n",
       "      <td>0.233950</td>\n",
       "      <td>0.018081</td>\n",
       "      <td>1.000000</td>\n",
       "    </tr>\n",
       "  </tbody>\n",
       "</table>\n",
       "</div>"
      ],
      "text/plain": [
       "                           Loan ID   Payment  Number of Children  \\\n",
       "Loan ID                   1.000000 -0.002108           -0.001129   \n",
       "Payment                  -0.002108  1.000000            0.019187   \n",
       "Number of Children       -0.001129  0.019187            1.000000   \n",
       "Total Income             -0.001820 -0.003982            0.012882   \n",
       "Amount of Credit         -0.000343 -0.030369            0.002145   \n",
       "Have a phone?            -0.001337  0.045982            0.240714   \n",
       "Have a mail?              0.000281 -0.001758            0.022619   \n",
       "Number of family members -0.002895  0.009308            0.879161   \n",
       "\n",
       "                          Total Income  Amount of Credit  Have a phone?  \\\n",
       "Loan ID                      -0.001820         -0.000343      -0.001337   \n",
       "Payment                      -0.003982         -0.030369       0.045982   \n",
       "Number of Children            0.012882          0.002145       0.240714   \n",
       "Total Income                  1.000000          0.156870       0.063994   \n",
       "Amount of Credit              0.156870          1.000000       0.065519   \n",
       "Have a phone?                 0.063994          0.065519       1.000000   \n",
       "Have a mail?                  0.038378          0.016632       0.062542   \n",
       "Number of family members      0.016342          0.063160       0.233950   \n",
       "\n",
       "                          Have a mail?  Number of family members  \n",
       "Loan ID                       0.000281                 -0.002895  \n",
       "Payment                      -0.001758                  0.009308  \n",
       "Number of Children            0.022619                  0.879161  \n",
       "Total Income                  0.038378                  0.016342  \n",
       "Amount of Credit              0.016632                  0.063160  \n",
       "Have a phone?                 0.062542                  0.233950  \n",
       "Have a mail?                  1.000000                  0.018081  \n",
       "Number of family members      0.018081                  1.000000  "
      ]
     },
     "execution_count": 6,
     "metadata": {},
     "output_type": "execute_result"
    }
   ],
   "source": [
    "df.corr()"
   ]
  },
  {
   "cell_type": "code",
   "execution_count": 7,
   "id": "1086b8d9",
   "metadata": {
    "scrolled": true
   },
   "outputs": [
    {
     "data": {
      "text/html": [
       "<div>\n",
       "<style scoped>\n",
       "    .dataframe tbody tr th:only-of-type {\n",
       "        vertical-align: middle;\n",
       "    }\n",
       "\n",
       "    .dataframe tbody tr th {\n",
       "        vertical-align: top;\n",
       "    }\n",
       "\n",
       "    .dataframe thead th {\n",
       "        text-align: right;\n",
       "    }\n",
       "</style>\n",
       "<table border=\"1\" class=\"dataframe\">\n",
       "  <thead>\n",
       "    <tr style=\"text-align: right;\">\n",
       "      <th></th>\n",
       "      <th>Loan ID</th>\n",
       "      <th>Payment</th>\n",
       "      <th>Number of Children</th>\n",
       "      <th>Total Income</th>\n",
       "      <th>Amount of Credit</th>\n",
       "      <th>Have a phone?</th>\n",
       "      <th>Have a mail?</th>\n",
       "      <th>Number of family members</th>\n",
       "    </tr>\n",
       "  </thead>\n",
       "  <tbody>\n",
       "    <tr>\n",
       "      <th>count</th>\n",
       "      <td>307511.000000</td>\n",
       "      <td>307511.000000</td>\n",
       "      <td>307511.000000</td>\n",
       "      <td>3.075110e+05</td>\n",
       "      <td>3.075110e+05</td>\n",
       "      <td>307511.000000</td>\n",
       "      <td>307511.000000</td>\n",
       "      <td>307509.000000</td>\n",
       "    </tr>\n",
       "    <tr>\n",
       "      <th>mean</th>\n",
       "      <td>278180.518577</td>\n",
       "      <td>0.080729</td>\n",
       "      <td>0.417052</td>\n",
       "      <td>1.687979e+05</td>\n",
       "      <td>5.990260e+05</td>\n",
       "      <td>0.819889</td>\n",
       "      <td>0.056720</td>\n",
       "      <td>2.152665</td>\n",
       "    </tr>\n",
       "    <tr>\n",
       "      <th>std</th>\n",
       "      <td>102790.175348</td>\n",
       "      <td>0.272419</td>\n",
       "      <td>0.722121</td>\n",
       "      <td>2.371231e+05</td>\n",
       "      <td>4.024908e+05</td>\n",
       "      <td>0.384280</td>\n",
       "      <td>0.231307</td>\n",
       "      <td>0.910682</td>\n",
       "    </tr>\n",
       "    <tr>\n",
       "      <th>min</th>\n",
       "      <td>100002.000000</td>\n",
       "      <td>0.000000</td>\n",
       "      <td>0.000000</td>\n",
       "      <td>2.565000e+04</td>\n",
       "      <td>4.500000e+04</td>\n",
       "      <td>0.000000</td>\n",
       "      <td>0.000000</td>\n",
       "      <td>1.000000</td>\n",
       "    </tr>\n",
       "    <tr>\n",
       "      <th>25%</th>\n",
       "      <td>189145.500000</td>\n",
       "      <td>0.000000</td>\n",
       "      <td>0.000000</td>\n",
       "      <td>1.125000e+05</td>\n",
       "      <td>2.700000e+05</td>\n",
       "      <td>1.000000</td>\n",
       "      <td>0.000000</td>\n",
       "      <td>2.000000</td>\n",
       "    </tr>\n",
       "    <tr>\n",
       "      <th>50%</th>\n",
       "      <td>278202.000000</td>\n",
       "      <td>0.000000</td>\n",
       "      <td>0.000000</td>\n",
       "      <td>1.471500e+05</td>\n",
       "      <td>5.135310e+05</td>\n",
       "      <td>1.000000</td>\n",
       "      <td>0.000000</td>\n",
       "      <td>2.000000</td>\n",
       "    </tr>\n",
       "    <tr>\n",
       "      <th>75%</th>\n",
       "      <td>367142.500000</td>\n",
       "      <td>0.000000</td>\n",
       "      <td>1.000000</td>\n",
       "      <td>2.025000e+05</td>\n",
       "      <td>8.086500e+05</td>\n",
       "      <td>1.000000</td>\n",
       "      <td>0.000000</td>\n",
       "      <td>3.000000</td>\n",
       "    </tr>\n",
       "    <tr>\n",
       "      <th>max</th>\n",
       "      <td>456255.000000</td>\n",
       "      <td>1.000000</td>\n",
       "      <td>19.000000</td>\n",
       "      <td>1.170000e+08</td>\n",
       "      <td>4.050000e+06</td>\n",
       "      <td>1.000000</td>\n",
       "      <td>1.000000</td>\n",
       "      <td>20.000000</td>\n",
       "    </tr>\n",
       "  </tbody>\n",
       "</table>\n",
       "</div>"
      ],
      "text/plain": [
       "             Loan ID        Payment  Number of Children  Total Income  \\\n",
       "count  307511.000000  307511.000000       307511.000000  3.075110e+05   \n",
       "mean   278180.518577       0.080729            0.417052  1.687979e+05   \n",
       "std    102790.175348       0.272419            0.722121  2.371231e+05   \n",
       "min    100002.000000       0.000000            0.000000  2.565000e+04   \n",
       "25%    189145.500000       0.000000            0.000000  1.125000e+05   \n",
       "50%    278202.000000       0.000000            0.000000  1.471500e+05   \n",
       "75%    367142.500000       0.000000            1.000000  2.025000e+05   \n",
       "max    456255.000000       1.000000           19.000000  1.170000e+08   \n",
       "\n",
       "       Amount of Credit  Have a phone?   Have a mail?  \\\n",
       "count      3.075110e+05  307511.000000  307511.000000   \n",
       "mean       5.990260e+05       0.819889       0.056720   \n",
       "std        4.024908e+05       0.384280       0.231307   \n",
       "min        4.500000e+04       0.000000       0.000000   \n",
       "25%        2.700000e+05       1.000000       0.000000   \n",
       "50%        5.135310e+05       1.000000       0.000000   \n",
       "75%        8.086500e+05       1.000000       0.000000   \n",
       "max        4.050000e+06       1.000000       1.000000   \n",
       "\n",
       "       Number of family members  \n",
       "count             307509.000000  \n",
       "mean                   2.152665  \n",
       "std                    0.910682  \n",
       "min                    1.000000  \n",
       "25%                    2.000000  \n",
       "50%                    2.000000  \n",
       "75%                    3.000000  \n",
       "max                   20.000000  "
      ]
     },
     "execution_count": 7,
     "metadata": {},
     "output_type": "execute_result"
    }
   ],
   "source": [
    "df.describe()"
   ]
  },
  {
   "cell_type": "code",
   "execution_count": 8,
   "id": "6cff5c45",
   "metadata": {},
   "outputs": [
    {
     "name": "stderr",
     "output_type": "stream",
     "text": [
      "C:\\Users\\Huseyn\\anaconda3\\lib\\site-packages\\seaborn\\_decorators.py:36: FutureWarning: Pass the following variable as a keyword arg: x. From version 0.12, the only valid positional argument will be `data`, and passing other arguments without an explicit keyword will result in an error or misinterpretation.\n",
      "  warnings.warn(\n"
     ]
    },
    {
     "data": {
      "text/plain": [
       "<AxesSubplot:xlabel='Number of family members'>"
      ]
     },
     "execution_count": 8,
     "metadata": {},
     "output_type": "execute_result"
    },
    {
     "data": {
      "image/png": "[encoded data removed]",
      "text/plain": [
       "<Figure size 432x288 with 1 Axes>"
      ]
     },
     "metadata": {
      "needs_background": "light"
     },
     "output_type": "display_data"
    }
   ],
   "source": [
    "sns.boxplot(df['Number of family members'])"
   ]
  },
  {
   "cell_type": "code",
   "execution_count": 9,
   "id": "e7265ad3",
   "metadata": {},
   "outputs": [
    {
     "name": "stdout",
     "output_type": "stream",
     "text": [
      "2.0 3.0 1.0\n"
     ]
    }
   ],
   "source": [
    "Q1 = df['Number of family members'].quantile(0.25)\n",
    "Q3 = df['Number of family members'].quantile(0.75)\n",
    "IQR = Q3 - Q1\n",
    "print(Q1,Q3,IQR)"
   ]
  },
  {
   "cell_type": "code",
   "execution_count": 10,
   "id": "2c286e2c",
   "metadata": {},
   "outputs": [],
   "source": [
    "df = df[(df['Number of family members'] > (Q1 - 1.5 * IQR)) & (df['Number of family members'] < (Q3 + 1.5 * IQR) )]"
   ]
  },
  {
   "cell_type": "code",
   "execution_count": 11,
   "id": "2eb3191f",
   "metadata": {},
   "outputs": [
    {
     "name": "stdout",
     "output_type": "stream",
     "text": [
      "<class 'pandas.core.frame.DataFrame'>\n",
      "Int64Index: 303502 entries, 0 to 307510\n",
      "Data columns (total 18 columns):\n",
      " #   Column                    Non-Null Count   Dtype  \n",
      "---  ------                    --------------   -----  \n",
      " 0   Loan ID                   303502 non-null  int64  \n",
      " 1   Payment                   303502 non-null  int64  \n",
      " 2   Loan Type                 303502 non-null  object \n",
      " 3   Gender                    303502 non-null  object \n",
      " 4   Have a car?               303502 non-null  object \n",
      " 5   Have a house              303502 non-null  object \n",
      " 6   Number of Children        303502 non-null  int64  \n",
      " 7   Total Income              303502 non-null  float64\n",
      " 8   Amount of Credit          303502 non-null  float64\n",
      " 9   Suite Type                302232 non-null  object \n",
      " 10  Income Type               303502 non-null  object \n",
      " 11  Education Type            303502 non-null  object \n",
      " 12  Family Status             303502 non-null  object \n",
      " 13  Have a phone?             303502 non-null  int64  \n",
      " 14  Have a mail?              303502 non-null  int64  \n",
      " 15  Profession                207872 non-null  object \n",
      " 16  Number of family members  303502 non-null  float64\n",
      " 17  Organization              303502 non-null  object \n",
      "dtypes: float64(3), int64(5), object(10)\n",
      "memory usage: 44.0+ MB\n"
     ]
    }
   ],
   "source": [
    "df.info()"
   ]
  },
  {
   "cell_type": "code",
   "execution_count": 12,
   "id": "e0d6d5f9",
   "metadata": {},
   "outputs": [
    {
     "name": "stderr",
     "output_type": "stream",
     "text": [
      "C:\\Users\\Huseyn\\anaconda3\\lib\\site-packages\\seaborn\\_decorators.py:36: FutureWarning: Pass the following variable as a keyword arg: x. From version 0.12, the only valid positional argument will be `data`, and passing other arguments without an explicit keyword will result in an error or misinterpretation.\n",
      "  warnings.warn(\n"
     ]
    },
    {
     "data": {
      "text/plain": [
       "<AxesSubplot:xlabel='Number of family members'>"
      ]
     },
     "execution_count": 12,
     "metadata": {},
     "output_type": "execute_result"
    },
    {
     "data": {
      "image/png": "[encoded data removed]",
      "text/plain": [
       "<Figure size 432x288 with 1 Axes>"
      ]
     },
     "metadata": {
      "needs_background": "light"
     },
     "output_type": "display_data"
    }
   ],
   "source": [
    "sns.boxplot(df['Number of family members'])"
   ]
  },
  {
   "cell_type": "code",
   "execution_count": 13,
   "id": "87405761",
   "metadata": {},
   "outputs": [
    {
     "name": "stderr",
     "output_type": "stream",
     "text": [
      "C:\\Users\\Huseyn\\anaconda3\\lib\\site-packages\\seaborn\\_decorators.py:36: FutureWarning: Pass the following variable as a keyword arg: x. From version 0.12, the only valid positional argument will be `data`, and passing other arguments without an explicit keyword will result in an error or misinterpretation.\n",
      "  warnings.warn(\n"
     ]
    },
    {
     "data": {
      "text/plain": [
       "<AxesSubplot:xlabel='Number of Children'>"
      ]
     },
     "execution_count": 13,
     "metadata": {},
     "output_type": "execute_result"
    },
    {
     "data": {
      "image/png": "[encoded data removed]",
      "text/plain": [
       "<Figure size 432x288 with 1 Axes>"
      ]
     },
     "metadata": {
      "needs_background": "light"
     },
     "output_type": "display_data"
    }
   ],
   "source": [
    "sns.boxplot(df['Number of Children'])"
   ]
  },
  {
   "cell_type": "code",
   "execution_count": 14,
   "id": "618ee3f5",
   "metadata": {},
   "outputs": [
    {
     "name": "stdout",
     "output_type": "stream",
     "text": [
      "0.0 1.0 1.0\n"
     ]
    }
   ],
   "source": [
    "Q1 = df['Number of Children'].quantile(0.25)\n",
    "Q3 = df['Number of Children'].quantile(0.75)\n",
    "IQR = Q3 - Q1\n",
    "print(Q1,Q3,IQR)"
   ]
  },
  {
   "cell_type": "code",
   "execution_count": 15,
   "id": "daca3616",
   "metadata": {},
   "outputs": [],
   "source": [
    "df = df[(df['Number of Children'] > (Q1 - 1.5 * IQR)) & (df['Number of Children'] < (Q3 + 1.5 * IQR) )]"
   ]
  },
  {
   "cell_type": "code",
   "execution_count": 16,
   "id": "c76ad7e1",
   "metadata": {},
   "outputs": [
    {
     "name": "stderr",
     "output_type": "stream",
     "text": [
      "C:\\Users\\Huseyn\\anaconda3\\lib\\site-packages\\seaborn\\_decorators.py:36: FutureWarning: Pass the following variable as a keyword arg: x. From version 0.12, the only valid positional argument will be `data`, and passing other arguments without an explicit keyword will result in an error or misinterpretation.\n",
      "  warnings.warn(\n"
     ]
    },
    {
     "data": {
      "text/plain": [
       "<AxesSubplot:xlabel='Number of Children'>"
      ]
     },
     "execution_count": 16,
     "metadata": {},
     "output_type": "execute_result"
    },
    {
     "data": {
      "image/png": "[encoded data removed]",
      "text/plain": [
       "<Figure size 432x288 with 1 Axes>"
      ]
     },
     "metadata": {
      "needs_background": "light"
     },
     "output_type": "display_data"
    }
   ],
   "source": [
    "sns.boxplot(df['Number of Children'])"
   ]
  },
  {
   "cell_type": "code",
   "execution_count": 17,
   "id": "854012cc",
   "metadata": {},
   "outputs": [
    {
     "name": "stdout",
     "output_type": "stream",
     "text": [
      "<class 'pandas.core.frame.DataFrame'>\n",
      "Int64Index: 303237 entries, 0 to 307510\n",
      "Data columns (total 18 columns):\n",
      " #   Column                    Non-Null Count   Dtype  \n",
      "---  ------                    --------------   -----  \n",
      " 0   Loan ID                   303237 non-null  int64  \n",
      " 1   Payment                   303237 non-null  int64  \n",
      " 2   Loan Type                 303237 non-null  object \n",
      " 3   Gender                    303237 non-null  object \n",
      " 4   Have a car?               303237 non-null  object \n",
      " 5   Have a house              303237 non-null  object \n",
      " 6   Number of Children        303237 non-null  int64  \n",
      " 7   Total Income              303237 non-null  float64\n",
      " 8   Amount of Credit          303237 non-null  float64\n",
      " 9   Suite Type                301969 non-null  object \n",
      " 10  Income Type               303237 non-null  object \n",
      " 11  Education Type            303237 non-null  object \n",
      " 12  Family Status             303237 non-null  object \n",
      " 13  Have a phone?             303237 non-null  int64  \n",
      " 14  Have a mail?              303237 non-null  int64  \n",
      " 15  Profession                207677 non-null  object \n",
      " 16  Number of family members  303237 non-null  float64\n",
      " 17  Organization              303237 non-null  object \n",
      "dtypes: float64(3), int64(5), object(10)\n",
      "memory usage: 44.0+ MB\n"
     ]
    }
   ],
   "source": [
    "df.info()"
   ]
  },
  {
   "cell_type": "code",
   "execution_count": 18,
   "id": "7a46070c",
   "metadata": {},
   "outputs": [
    {
     "name": "stderr",
     "output_type": "stream",
     "text": [
      "C:\\Users\\Huseyn\\anaconda3\\lib\\site-packages\\seaborn\\_decorators.py:36: FutureWarning: Pass the following variable as a keyword arg: x. From version 0.12, the only valid positional argument will be `data`, and passing other arguments without an explicit keyword will result in an error or misinterpretation.\n",
      "  warnings.warn(\n"
     ]
    },
    {
     "data": {
      "text/plain": [
       "<AxesSubplot:xlabel='Amount of Credit'>"
      ]
     },
     "execution_count": 18,
     "metadata": {},
     "output_type": "execute_result"
    },
    {
     "data": {
      "image/png": "[encoded data removed]",
      "text/plain": [
       "<Figure size 432x288 with 1 Axes>"
      ]
     },
     "metadata": {
      "needs_background": "light"
     },
     "output_type": "display_data"
    }
   ],
   "source": [
    "sns.boxplot(df['Amount of Credit'])"
   ]
  },
  {
   "cell_type": "code",
   "execution_count": 19,
   "id": "8ec4a8aa",
   "metadata": {},
   "outputs": [
    {
     "name": "stdout",
     "output_type": "stream",
     "text": [
      "270000.0 808650.0 538650.0\n"
     ]
    }
   ],
   "source": [
    "Q1 = df['Amount of Credit'].quantile(0.25)\n",
    "Q3 = df['Amount of Credit'].quantile(0.75)\n",
    "IQR = Q3 - Q1\n",
    "print(Q1,Q3,IQR)"
   ]
  },
  {
   "cell_type": "code",
   "execution_count": 20,
   "id": "12996350",
   "metadata": {},
   "outputs": [],
   "source": [
    "df = df[(df['Amount of Credit'] > (Q1 - 1.5 * IQR)) & (df['Amount of Credit'] < (Q3 + 1.5 * IQR) )]"
   ]
  },
  {
   "cell_type": "code",
   "execution_count": 21,
   "id": "542a85c3",
   "metadata": {},
   "outputs": [
    {
     "name": "stderr",
     "output_type": "stream",
     "text": [
      "C:\\Users\\Huseyn\\anaconda3\\lib\\site-packages\\seaborn\\_decorators.py:36: FutureWarning: Pass the following variable as a keyword arg: x. From version 0.12, the only valid positional argument will be `data`, and passing other arguments without an explicit keyword will result in an error or misinterpretation.\n",
      "  warnings.warn(\n"
     ]
    },
    {
     "data": {
      "text/plain": [
       "<AxesSubplot:xlabel='Amount of Credit'>"
      ]
     },
     "execution_count": 21,
     "metadata": {},
     "output_type": "execute_result"
    },
    {
     "data": {
      "image/png": "[encoded data removed]",
      "text/plain": [
       "<Figure size 432x288 with 1 Axes>"
      ]
     },
     "metadata": {
      "needs_background": "light"
     },
     "output_type": "display_data"
    }
   ],
   "source": [
    "sns.boxplot(df['Amount of Credit'])"
   ]
  },
  {
   "cell_type": "code",
   "execution_count": 22,
   "id": "173ceb71",
   "metadata": {},
   "outputs": [
    {
     "name": "stdout",
     "output_type": "stream",
     "text": [
      "<class 'pandas.core.frame.DataFrame'>\n",
      "Int64Index: 296765 entries, 0 to 307510\n",
      "Data columns (total 18 columns):\n",
      " #   Column                    Non-Null Count   Dtype  \n",
      "---  ------                    --------------   -----  \n",
      " 0   Loan ID                   296765 non-null  int64  \n",
      " 1   Payment                   296765 non-null  int64  \n",
      " 2   Loan Type                 296765 non-null  object \n",
      " 3   Gender                    296765 non-null  object \n",
      " 4   Have a car?               296765 non-null  object \n",
      " 5   Have a house              296765 non-null  object \n",
      " 6   Number of Children        296765 non-null  int64  \n",
      " 7   Total Income              296765 non-null  float64\n",
      " 8   Amount of Credit          296765 non-null  float64\n",
      " 9   Suite Type                295570 non-null  object \n",
      " 10  Income Type               296765 non-null  object \n",
      " 11  Education Type            296765 non-null  object \n",
      " 12  Family Status             296765 non-null  object \n",
      " 13  Have a phone?             296765 non-null  int64  \n",
      " 14  Have a mail?              296765 non-null  int64  \n",
      " 15  Profession                202977 non-null  object \n",
      " 16  Number of family members  296765 non-null  float64\n",
      " 17  Organization              296765 non-null  object \n",
      "dtypes: float64(3), int64(5), object(10)\n",
      "memory usage: 43.0+ MB\n"
     ]
    }
   ],
   "source": [
    "df.info()"
   ]
  },
  {
   "cell_type": "code",
   "execution_count": 23,
   "id": "9c851771",
   "metadata": {},
   "outputs": [
    {
     "name": "stderr",
     "output_type": "stream",
     "text": [
      "C:\\Users\\Huseyn\\anaconda3\\lib\\site-packages\\seaborn\\_decorators.py:36: FutureWarning: Pass the following variable as a keyword arg: x. From version 0.12, the only valid positional argument will be `data`, and passing other arguments without an explicit keyword will result in an error or misinterpretation.\n",
      "  warnings.warn(\n"
     ]
    },
    {
     "data": {
      "text/plain": [
       "<AxesSubplot:xlabel='Total Income'>"
      ]
     },
     "execution_count": 23,
     "metadata": {},
     "output_type": "execute_result"
    },
    {
     "data": {
      "image/png": "[encoded data removed]",
      "text/plain": [
       "<Figure size 432x288 with 1 Axes>"
      ]
     },
     "metadata": {
      "needs_background": "light"
     },
     "output_type": "display_data"
    }
   ],
   "source": [
    "sns.boxplot(df['Total Income'])"
   ]
  },
  {
   "cell_type": "code",
   "execution_count": 24,
   "id": "2e3d2b8f",
   "metadata": {},
   "outputs": [
    {
     "name": "stdout",
     "output_type": "stream",
     "text": [
      "112500.0 202500.0 90000.0\n"
     ]
    }
   ],
   "source": [
    "Q1 = df['Total Income'].quantile(0.25)\n",
    "Q3 = df['Total Income'].quantile(0.75)\n",
    "IQR = Q3 - Q1\n",
    "print(Q1,Q3,IQR)"
   ]
  },
  {
   "cell_type": "code",
   "execution_count": 25,
   "id": "32e3537a",
   "metadata": {},
   "outputs": [],
   "source": [
    "df = df[(df['Total Income'] > (Q1 - 1.5 * IQR)) & (df['Total Income'] < (Q3 + 1.5 * IQR) )]"
   ]
  },
  {
   "cell_type": "code",
   "execution_count": 26,
   "id": "1deccbb0",
   "metadata": {},
   "outputs": [
    {
     "name": "stderr",
     "output_type": "stream",
     "text": [
      "C:\\Users\\Huseyn\\anaconda3\\lib\\site-packages\\seaborn\\_decorators.py:36: FutureWarning: Pass the following variable as a keyword arg: x. From version 0.12, the only valid positional argument will be `data`, and passing other arguments without an explicit keyword will result in an error or misinterpretation.\n",
      "  warnings.warn(\n"
     ]
    },
    {
     "data": {
      "text/plain": [
       "<AxesSubplot:xlabel='Total Income'>"
      ]
     },
     "execution_count": 26,
     "metadata": {},
     "output_type": "execute_result"
    },
    {
     "data": {
      "image/png": "[encoded data removed]",
      "text/plain": [
       "<Figure size 432x288 with 1 Axes>"
      ]
     },
     "metadata": {
      "needs_background": "light"
     },
     "output_type": "display_data"
    }
   ],
   "source": [
    "sns.boxplot(df['Total Income'])"
   ]
  },
  {
   "cell_type": "code",
   "execution_count": 27,
   "id": "f0a07331",
   "metadata": {},
   "outputs": [
    {
     "name": "stdout",
     "output_type": "stream",
     "text": [
      "<class 'pandas.core.frame.DataFrame'>\n",
      "Int64Index: 283162 entries, 0 to 307510\n",
      "Data columns (total 18 columns):\n",
      " #   Column                    Non-Null Count   Dtype  \n",
      "---  ------                    --------------   -----  \n",
      " 0   Loan ID                   283162 non-null  int64  \n",
      " 1   Payment                   283162 non-null  int64  \n",
      " 2   Loan Type                 283162 non-null  object \n",
      " 3   Gender                    283162 non-null  object \n",
      " 4   Have a car?               283162 non-null  object \n",
      " 5   Have a house              283162 non-null  object \n",
      " 6   Number of Children        283162 non-null  int64  \n",
      " 7   Total Income              283162 non-null  float64\n",
      " 8   Amount of Credit          283162 non-null  float64\n",
      " 9   Suite Type                282029 non-null  object \n",
      " 10  Income Type               283162 non-null  object \n",
      " 11  Education Type            283162 non-null  object \n",
      " 12  Family Status             283162 non-null  object \n",
      " 13  Have a phone?             283162 non-null  int64  \n",
      " 14  Have a mail?              283162 non-null  int64  \n",
      " 15  Profession                192541 non-null  object \n",
      " 16  Number of family members  283162 non-null  float64\n",
      " 17  Organization              283162 non-null  object \n",
      "dtypes: float64(3), int64(5), object(10)\n",
      "memory usage: 41.0+ MB\n"
     ]
    }
   ],
   "source": [
    "df.info()"
   ]
  },
  {
   "cell_type": "code",
   "execution_count": 28,
   "id": "14a4d378",
   "metadata": {},
   "outputs": [
    {
     "data": {
      "text/plain": [
       "Laborers                 51947\n",
       "Sales staff              30413\n",
       "Core staff               24958\n",
       "Drivers                  17106\n",
       "Managers                 16035\n",
       "High skill tech staff    10276\n",
       "Accountants               8584\n",
       "Medicine staff            8023\n",
       "Security staff            6403\n",
       "Cooking staff             5732\n",
       "Cleaning staff            4496\n",
       "Private service staff     2417\n",
       "Low-skill Laborers        2032\n",
       "Waiters/barmen staff      1286\n",
       "Secretaries               1213\n",
       "Realty agents              685\n",
       "HR staff                   493\n",
       "IT staff                   442\n",
       "Name: Profession, dtype: int64"
      ]
     },
     "execution_count": 28,
     "metadata": {},
     "output_type": "execute_result"
    }
   ],
   "source": [
    "df['Profession'].value_counts()"
   ]
  },
  {
   "cell_type": "code",
   "execution_count": 29,
   "id": "f8e1c014",
   "metadata": {},
   "outputs": [],
   "source": [
    "df['Profession'].fillna('Laborers', inplace=True)"
   ]
  },
  {
   "cell_type": "code",
   "execution_count": 30,
   "id": "6d586b94",
   "metadata": {},
   "outputs": [
    {
     "name": "stdout",
     "output_type": "stream",
     "text": [
      "<class 'pandas.core.frame.DataFrame'>\n",
      "Int64Index: 283162 entries, 0 to 307510\n",
      "Data columns (total 18 columns):\n",
      " #   Column                    Non-Null Count   Dtype  \n",
      "---  ------                    --------------   -----  \n",
      " 0   Loan ID                   283162 non-null  int64  \n",
      " 1   Payment                   283162 non-null  int64  \n",
      " 2   Loan Type                 283162 non-null  object \n",
      " 3   Gender                    283162 non-null  object \n",
      " 4   Have a car?               283162 non-null  object \n",
      " 5   Have a house              283162 non-null  object \n",
      " 6   Number of Children        283162 non-null  int64  \n",
      " 7   Total Income              283162 non-null  float64\n",
      " 8   Amount of Credit          283162 non-null  float64\n",
      " 9   Suite Type                282029 non-null  object \n",
      " 10  Income Type               283162 non-null  object \n",
      " 11  Education Type            283162 non-null  object \n",
      " 12  Family Status             283162 non-null  object \n",
      " 13  Have a phone?             283162 non-null  int64  \n",
      " 14  Have a mail?              283162 non-null  int64  \n",
      " 15  Profession                283162 non-null  object \n",
      " 16  Number of family members  283162 non-null  float64\n",
      " 17  Organization              283162 non-null  object \n",
      "dtypes: float64(3), int64(5), object(10)\n",
      "memory usage: 41.0+ MB\n"
     ]
    }
   ],
   "source": [
    "df.info()"
   ]
  },
  {
   "cell_type": "code",
   "execution_count": 31,
   "id": "aa0269f8",
   "metadata": {},
   "outputs": [
    {
     "data": {
      "text/plain": [
       "Unaccompanied      228616\n",
       "Family              37157\n",
       "Spouse, partner     10478\n",
       "Children             3078\n",
       "Other_B              1647\n",
       "Other_A               802\n",
       "Group of people       251\n",
       "Name: Suite Type, dtype: int64"
      ]
     },
     "execution_count": 31,
     "metadata": {},
     "output_type": "execute_result"
    }
   ],
   "source": [
    "df['Suite Type'].value_counts()"
   ]
  },
  {
   "cell_type": "code",
   "execution_count": 32,
   "id": "b8df37bc",
   "metadata": {},
   "outputs": [],
   "source": [
    "df['Suite Type'].fillna('Unaccompanied', inplace=True)"
   ]
  },
  {
   "cell_type": "code",
   "execution_count": 33,
   "id": "3a0ffa44",
   "metadata": {},
   "outputs": [
    {
     "name": "stdout",
     "output_type": "stream",
     "text": [
      "<class 'pandas.core.frame.DataFrame'>\n",
      "Int64Index: 283162 entries, 0 to 307510\n",
      "Data columns (total 18 columns):\n",
      " #   Column                    Non-Null Count   Dtype  \n",
      "---  ------                    --------------   -----  \n",
      " 0   Loan ID                   283162 non-null  int64  \n",
      " 1   Payment                   283162 non-null  int64  \n",
      " 2   Loan Type                 283162 non-null  object \n",
      " 3   Gender                    283162 non-null  object \n",
      " 4   Have a car?               283162 non-null  object \n",
      " 5   Have a house              283162 non-null  object \n",
      " 6   Number of Children        283162 non-null  int64  \n",
      " 7   Total Income              283162 non-null  float64\n",
      " 8   Amount of Credit          283162 non-null  float64\n",
      " 9   Suite Type                283162 non-null  object \n",
      " 10  Income Type               283162 non-null  object \n",
      " 11  Education Type            283162 non-null  object \n",
      " 12  Family Status             283162 non-null  object \n",
      " 13  Have a phone?             283162 non-null  int64  \n",
      " 14  Have a mail?              283162 non-null  int64  \n",
      " 15  Profession                283162 non-null  object \n",
      " 16  Number of family members  283162 non-null  float64\n",
      " 17  Organization              283162 non-null  object \n",
      "dtypes: float64(3), int64(5), object(10)\n",
      "memory usage: 41.0+ MB\n"
     ]
    }
   ],
   "source": [
    "df.info()"
   ]
  },
  {
   "cell_type": "code",
   "execution_count": 35,
   "id": "8be8c116",
   "metadata": {},
   "outputs": [
    {
     "name": "stderr",
     "output_type": "stream",
     "text": [
      "<ipython-input-35-774246220f1d>:1: DeprecationWarning: `np.object` is a deprecated alias for the builtin `object`. To silence this warning, use `object` by itself. Doing this will not modify any behavior and is safe. \n",
      "Deprecated in NumPy 1.20; for more details and guidance: https://numpy.org/devdocs/release/1.20.0-notes.html#deprecations\n",
      "  obj_dtypes = [i for i in df.select_dtypes(include=np.object).columns ]\n"
     ]
    },
    {
     "data": {
      "text/plain": [
       "['Loan Type',\n",
       " 'Gender',\n",
       " 'Have a car?',\n",
       " 'Have a house',\n",
       " 'Suite Type',\n",
       " 'Income Type',\n",
       " 'Education Type',\n",
       " 'Family Status',\n",
       " 'Profession',\n",
       " 'Organization']"
      ]
     },
     "execution_count": 35,
     "metadata": {},
     "output_type": "execute_result"
    }
   ],
   "source": [
    "obj_dtypes = [i for i in df.select_dtypes(include=np.object).columns ]\n",
    "obj_dtypes"
   ]
  },
  {
   "cell_type": "code",
   "execution_count": 38,
   "id": "bea4a8e9",
   "metadata": {},
   "outputs": [
    {
     "data": {
      "text/plain": [
       "['Number of Children',\n",
       " 'Total Income',\n",
       " 'Amount of Credit',\n",
       " 'Have a phone?',\n",
       " 'Have a mail?',\n",
       " 'Number of family members']"
      ]
     },
     "execution_count": 38,
     "metadata": {},
     "output_type": "execute_result"
    }
   ],
   "source": [
    "num_dtypes = [i for i in df.select_dtypes(include = np.number).columns][2:]\n",
    "num_dtypes"
   ]
  },
  {
   "cell_type": "code",
   "execution_count": 51,
   "id": "fcf59167",
   "metadata": {},
   "outputs": [
    {
     "data": {
      "image/png": "[encoded data removed]",
      "text/plain": [
       "<Figure size 936x432 with 1 Axes>"
      ]
     },
     "metadata": {},
     "output_type": "display_data"
    }
   ],
   "source": [
    "fig = plt.figure(figsize=(13,6))\n",
    "plt.pie(df['Payment'].value_counts(),labels=df['Payment'].unique(),autopct='%1.0f%%')\n",
    "plt.show()"
   ]
  },
  {
   "cell_type": "code",
   "execution_count": 52,
   "id": "b3f26a9d",
   "metadata": {},
   "outputs": [
    {
     "data": {
      "image/png": "[encoded data removed]",
      "text/plain": [
       "<Figure size 936x432 with 1 Axes>"
      ]
     },
     "metadata": {},
     "output_type": "display_data"
    }
   ],
   "source": [
    "fig = plt.figure(figsize=(13,6))\n",
    "plt.pie(df['Gender'].value_counts(),labels=df['Gender'].unique(),autopct='%1.0f%%')\n",
    "plt.show()"
   ]
  },
  {
   "cell_type": "code",
   "execution_count": 55,
   "id": "d61bc6d3",
   "metadata": {},
   "outputs": [
    {
     "data": {
      "image/png": "[encoded data removed]",
      "text/plain": [
       "<Figure size 936x432 with 1 Axes>"
      ]
     },
     "metadata": {},
     "output_type": "display_data"
    }
   ],
   "source": [
    "fig = plt.figure(figsize=(13,6))\n",
    "plt.pie(df['Loan Type'].value_counts(),labels=df['Loan Type'].unique(),autopct='%1.0f%%')\n",
    "plt.show()"
   ]
  },
  {
   "cell_type": "code",
   "execution_count": 54,
   "id": "5b1c3212",
   "metadata": {},
   "outputs": [
    {
     "data": {
      "image/png": "[encoded data removed]",
      "text/plain": [
       "<Figure size 936x432 with 1 Axes>"
      ]
     },
     "metadata": {},
     "output_type": "display_data"
    }
   ],
   "source": [
    "fig = plt.figure(figsize=(13,6))\n",
    "plt.pie(df['Income Type'].value_counts(),labels=df['Income Type'].unique(),autopct='%1.0f%%')\n",
    "plt.show()"
   ]
  },
  {
   "cell_type": "code",
   "execution_count": 60,
   "id": "c09350fe",
   "metadata": {},
   "outputs": [
    {
     "data": {
      "image/png": "[encoded data removed]",
      "text/plain": [
       "<Figure size 936x432 with 1 Axes>"
      ]
     },
     "metadata": {},
     "output_type": "display_data"
    }
   ],
   "source": [
    "fig = plt.figure(figsize=(13,6))\n",
    "plt.pie(df['Family Status'].value_counts(),labels=df['Family Status'].unique(),autopct='%1.0f%%')\n",
    "plt.show()"
   ]
  },
  {
   "cell_type": "code",
   "execution_count": 61,
   "id": "394eae29",
   "metadata": {},
   "outputs": [
    {
     "data": {
      "image/png": "[encoded data removed]",
      "text/plain": [
       "<Figure size 936x432 with 1 Axes>"
      ]
     },
     "metadata": {},
     "output_type": "display_data"
    }
   ],
   "source": [
    "fig = plt.figure(figsize=(13,6))\n",
    "plt.pie(df['Have a house'].value_counts(),labels=df['Have a house'].unique(),autopct='%1.0f%%')\n",
    "plt.show()"
   ]
  },
  {
   "cell_type": "code",
   "execution_count": 65,
   "id": "31708749",
   "metadata": {},
   "outputs": [
    {
     "data": {
      "image/png": "[encoded data removed]",
      "text/plain": [
       "<Figure size 936x432 with 1 Axes>"
      ]
     },
     "metadata": {},
     "output_type": "display_data"
    }
   ],
   "source": [
    "fig = plt.figure(figsize=(13,6))\n",
    "plt.pie(df['Have a car?'].value_counts(),labels=df['Have a car?'].unique(),autopct='%1.0f%%')\n",
    "plt.show()"
   ]
  },
  {
   "cell_type": "code",
   "execution_count": 72,
   "id": "f8466974",
   "metadata": {},
   "outputs": [
    {
     "data": {
      "image/png": "[encoded data removed]",
      "text/plain": [
       "<Figure size 576x576 with 2 Axes>"
      ]
     },
     "metadata": {
      "needs_background": "light"
     },
     "output_type": "display_data"
    }
   ],
   "source": [
    "f, ax = plt.subplots(figsize =(8, 8)) \n",
    "sns.heatmap(df.corr() , ax = ax, cmap =\"rainbow\") \n",
    "plt.show()"
   ]
  },
  {
   "cell_type": "code",
   "execution_count": 68,
   "id": "d91789d9",
   "metadata": {},
   "outputs": [],
   "source": [
    "df.to_csv('Risk Analytics cleaned.csv', index=False)"
   ]
  },
  {
   "cell_type": "code",
   "execution_count": null,
   "id": "b8660272",
   "metadata": {},
   "outputs": [],
   "source": []
  },
  {
   "cell_type": "code",
   "execution_count": 1,
   "id": "9faa559b",
   "metadata": {},
   "outputs": [],
   "source": [
    "import pandas as pd\n",
    "df = pd.read_csv('Risk Analytics cleaned.csv')"
   ]
  },
  {
   "cell_type": "code",
   "execution_count": 2,
   "id": "93baeb7f",
   "metadata": {},
   "outputs": [],
   "source": [
    "df.drop('Number of family members',axis=1,inplace=True)"
   ]
  },
  {
   "cell_type": "code",
   "execution_count": 3,
   "id": "25eeb88a",
   "metadata": {},
   "outputs": [
    {
     "name": "stdout",
     "output_type": "stream",
     "text": [
      "<class 'pandas.core.frame.DataFrame'>\n",
      "RangeIndex: 283162 entries, 0 to 283161\n",
      "Data columns (total 17 columns):\n",
      " #   Column              Non-Null Count   Dtype  \n",
      "---  ------              --------------   -----  \n",
      " 0   Loan ID             283162 non-null  int64  \n",
      " 1   Payment             283162 non-null  int64  \n",
      " 2   Loan Type           283162 non-null  object \n",
      " 3   Gender              283162 non-null  object \n",
      " 4   Have a car?         283162 non-null  object \n",
      " 5   Have a house        283162 non-null  object \n",
      " 6   Number of Children  283162 non-null  int64  \n",
      " 7   Total Income        283162 non-null  float64\n",
      " 8   Amount of Credit    283162 non-null  float64\n",
      " 9   Suite Type          283162 non-null  object \n",
      " 10  Income Type         283162 non-null  object \n",
      " 11  Education Type      283162 non-null  object \n",
      " 12  Family Status       283162 non-null  object \n",
      " 13  Have a phone?       283162 non-null  int64  \n",
      " 14  Have a mail?        283162 non-null  int64  \n",
      " 15  Profession          283162 non-null  object \n",
      " 16  Organization        283162 non-null  object \n",
      "dtypes: float64(2), int64(5), object(10)\n",
      "memory usage: 36.7+ MB\n"
     ]
    }
   ],
   "source": [
    "df.info()"
   ]
  },
  {
   "cell_type": "code",
   "execution_count": 4,
   "id": "237cd3b6",
   "metadata": {},
   "outputs": [],
   "source": [
    "df = df[(df['Gender'] == 'F') | (df['Gender'] == 'M')]"
   ]
  },
  {
   "cell_type": "code",
   "execution_count": 6,
   "id": "6d52dd7a",
   "metadata": {},
   "outputs": [
    {
     "name": "stdout",
     "output_type": "stream",
     "text": [
      "<class 'pandas.core.frame.DataFrame'>\n",
      "Int64Index: 283158 entries, 0 to 283161\n",
      "Data columns (total 17 columns):\n",
      " #   Column              Non-Null Count   Dtype  \n",
      "---  ------              --------------   -----  \n",
      " 0   Loan ID             283158 non-null  int64  \n",
      " 1   Payment             283158 non-null  int64  \n",
      " 2   Loan Type           283158 non-null  int32  \n",
      " 3   Gender              283158 non-null  int32  \n",
      " 4   Have a car?         283158 non-null  int32  \n",
      " 5   Have a house        283158 non-null  int32  \n",
      " 6   Number of Children  283158 non-null  int64  \n",
      " 7   Total Income        283158 non-null  float64\n",
      " 8   Amount of Credit    283158 non-null  float64\n",
      " 9   Suite Type          283158 non-null  int32  \n",
      " 10  Income Type         283158 non-null  int32  \n",
      " 11  Education Type      283158 non-null  int32  \n",
      " 12  Family Status       283158 non-null  int32  \n",
      " 13  Have a phone?       283158 non-null  int64  \n",
      " 14  Have a mail?        283158 non-null  int64  \n",
      " 15  Profession          283158 non-null  int32  \n",
      " 16  Organization        283158 non-null  int32  \n",
      "dtypes: float64(2), int32(10), int64(5)\n",
      "memory usage: 28.1 MB\n"
     ]
    }
   ],
   "source": [
    "objList = df.select_dtypes(include = \"object\").columns\n",
    "from sklearn.preprocessing import LabelEncoder\n",
    "le = LabelEncoder()\n",
    "\n",
    "for i in objList:\n",
    "    df[i] = le.fit_transform(df[i])\n",
    "\n",
    "df.info()"
   ]
  },
  {
   "cell_type": "code",
   "execution_count": 7,
   "id": "41a7bccb",
   "metadata": {},
   "outputs": [],
   "source": [
    "df.drop('Loan ID',axis=1,inplace=True)"
   ]
  },
  {
   "cell_type": "code",
   "execution_count": 8,
   "id": "fe721d8c",
   "metadata": {},
   "outputs": [
    {
     "data": {
      "image/png": "[encoded data removed]",
      "text/plain": [
       "<Figure size 792x648 with 2 Axes>"
      ]
     },
     "metadata": {
      "needs_background": "light"
     },
     "output_type": "display_data"
    }
   ],
   "source": [
    "f, ax = plt.subplots(figsize=(11, 9))\n",
    "sns.heatmap(df.corr())\n",
    "plt.show()"
   ]
  },
  {
   "cell_type": "code",
   "execution_count": 9,
   "id": "6dcb2c86",
   "metadata": {},
   "outputs": [
    {
     "name": "stdout",
     "output_type": "stream",
     "text": [
      "<class 'pandas.core.frame.DataFrame'>\n",
      "Int64Index: 283158 entries, 0 to 283161\n",
      "Data columns (total 16 columns):\n",
      " #   Column              Non-Null Count   Dtype  \n",
      "---  ------              --------------   -----  \n",
      " 0   Payment             283158 non-null  int64  \n",
      " 1   Loan Type           283158 non-null  int32  \n",
      " 2   Gender              283158 non-null  int32  \n",
      " 3   Have a car?         283158 non-null  int32  \n",
      " 4   Have a house        283158 non-null  int32  \n",
      " 5   Number of Children  283158 non-null  int64  \n",
      " 6   Total Income        283158 non-null  float64\n",
      " 7   Amount of Credit    283158 non-null  float64\n",
      " 8   Suite Type          283158 non-null  int32  \n",
      " 9   Income Type         283158 non-null  int32  \n",
      " 10  Education Type      283158 non-null  int32  \n",
      " 11  Family Status       283158 non-null  int32  \n",
      " 12  Have a phone?       283158 non-null  int64  \n",
      " 13  Have a mail?        283158 non-null  int64  \n",
      " 14  Profession          283158 non-null  int32  \n",
      " 15  Organization        283158 non-null  int32  \n",
      "dtypes: float64(2), int32(10), int64(4)\n",
      "memory usage: 25.9 MB\n"
     ]
    }
   ],
   "source": [
    "df.info()"
   ]
  },
  {
   "cell_type": "code",
   "execution_count": 10,
   "id": "b51c0f1c",
   "metadata": {},
   "outputs": [
    {
     "data": {
      "text/plain": [
       "0    259875\n",
       "1     23283\n",
       "Name: Payment, dtype: int64"
      ]
     },
     "execution_count": 10,
     "metadata": {},
     "output_type": "execute_result"
    }
   ],
   "source": [
    "df['Payment'].value_counts()"
   ]
  },
  {
   "cell_type": "code",
   "execution_count": 11,
   "id": "7d9a688d",
   "metadata": {},
   "outputs": [],
   "source": [
    "X = df.iloc[:,1:]\n",
    "y = df.iloc[:,:1]"
   ]
  },
  {
   "cell_type": "code",
   "execution_count": 12,
   "id": "2d58e651",
   "metadata": {},
   "outputs": [],
   "source": [
    "ss = StandardScaler()\n",
    "X = ss.fit_transform(X)\n",
    "X = pd.DataFrame(X, columns =df.columns[1:])"
   ]
  },
  {
   "cell_type": "code",
   "execution_count": 13,
   "id": "9d3b80e7",
   "metadata": {
    "scrolled": true
   },
   "outputs": [
    {
     "data": {
      "text/html": [
       "<div>\n",
       "<style scoped>\n",
       "    .dataframe tbody tr th:only-of-type {\n",
       "        vertical-align: middle;\n",
       "    }\n",
       "\n",
       "    .dataframe tbody tr th {\n",
       "        vertical-align: top;\n",
       "    }\n",
       "\n",
       "    .dataframe thead th {\n",
       "        text-align: right;\n",
       "    }\n",
       "</style>\n",
       "<table border=\"1\" class=\"dataframe\">\n",
       "  <thead>\n",
       "    <tr style=\"text-align: right;\">\n",
       "      <th></th>\n",
       "      <th>Loan Type</th>\n",
       "      <th>Gender</th>\n",
       "      <th>Have a car?</th>\n",
       "      <th>Have a house</th>\n",
       "      <th>Number of Children</th>\n",
       "      <th>Total Income</th>\n",
       "      <th>Amount of Credit</th>\n",
       "      <th>Suite Type</th>\n",
       "      <th>Income Type</th>\n",
       "      <th>Education Type</th>\n",
       "      <th>Family Status</th>\n",
       "      <th>Have a phone?</th>\n",
       "      <th>Have a mail?</th>\n",
       "      <th>Profession</th>\n",
       "      <th>Organization</th>\n",
       "    </tr>\n",
       "  </thead>\n",
       "  <tbody>\n",
       "    <tr>\n",
       "      <th>0</th>\n",
       "      <td>-0.325164</td>\n",
       "      <td>1.421391</td>\n",
       "      <td>-0.692028</td>\n",
       "      <td>0.663593</td>\n",
       "      <td>-0.586452</td>\n",
       "      <td>0.814264</td>\n",
       "      <td>-0.433043</td>\n",
       "      <td>0.439893</td>\n",
       "      <td>0.903346</td>\n",
       "      <td>0.596504</td>\n",
       "      <td>1.510255</td>\n",
       "      <td>0.482187</td>\n",
       "      <td>-0.236519</td>\n",
       "      <td>0.024347</td>\n",
       "      <td>-1.213479</td>\n",
       "    </tr>\n",
       "    <tr>\n",
       "      <th>1</th>\n",
       "      <td>-0.325164</td>\n",
       "      <td>-0.703536</td>\n",
       "      <td>-0.692028</td>\n",
       "      <td>-1.506948</td>\n",
       "      <td>-0.586452</td>\n",
       "      <td>1.903199</td>\n",
       "      <td>2.127243</td>\n",
       "      <td>-2.372717</td>\n",
       "      <td>-0.286875</td>\n",
       "      <td>-1.771045</td>\n",
       "      <td>-0.418762</td>\n",
       "      <td>0.482187</td>\n",
       "      <td>-0.236519</td>\n",
       "      <td>-1.344164</td>\n",
       "      <td>0.445067</td>\n",
       "    </tr>\n",
       "    <tr>\n",
       "      <th>2</th>\n",
       "      <td>3.075369</td>\n",
       "      <td>1.421391</td>\n",
       "      <td>1.445029</td>\n",
       "      <td>0.663593</td>\n",
       "      <td>-0.586452</td>\n",
       "      <td>-1.363605</td>\n",
       "      <td>-1.217081</td>\n",
       "      <td>0.439893</td>\n",
       "      <td>0.903346</td>\n",
       "      <td>0.596504</td>\n",
       "      <td>1.510255</td>\n",
       "      <td>0.482187</td>\n",
       "      <td>-0.236519</td>\n",
       "      <td>0.024347</td>\n",
       "      <td>-0.920794</td>\n",
       "    </tr>\n",
       "    <tr>\n",
       "      <th>3</th>\n",
       "      <td>-0.325164</td>\n",
       "      <td>-0.703536</td>\n",
       "      <td>-0.692028</td>\n",
       "      <td>0.663593</td>\n",
       "      <td>-0.586452</td>\n",
       "      <td>-0.274670</td>\n",
       "      <td>-0.704153</td>\n",
       "      <td>0.439893</td>\n",
       "      <td>0.903346</td>\n",
       "      <td>0.596504</td>\n",
       "      <td>-1.383270</td>\n",
       "      <td>0.482187</td>\n",
       "      <td>-0.236519</td>\n",
       "      <td>0.024347</td>\n",
       "      <td>-1.213479</td>\n",
       "    </tr>\n",
       "    <tr>\n",
       "      <th>4</th>\n",
       "      <td>-0.325164</td>\n",
       "      <td>1.421391</td>\n",
       "      <td>-0.692028</td>\n",
       "      <td>0.663593</td>\n",
       "      <td>-0.586452</td>\n",
       "      <td>-0.492457</td>\n",
       "      <td>-0.125884</td>\n",
       "      <td>0.439893</td>\n",
       "      <td>0.903346</td>\n",
       "      <td>0.596504</td>\n",
       "      <td>1.510255</td>\n",
       "      <td>0.482187</td>\n",
       "      <td>-0.236519</td>\n",
       "      <td>-1.344164</td>\n",
       "      <td>0.347505</td>\n",
       "    </tr>\n",
       "    <tr>\n",
       "      <th>...</th>\n",
       "      <td>...</td>\n",
       "      <td>...</td>\n",
       "      <td>...</td>\n",
       "      <td>...</td>\n",
       "      <td>...</td>\n",
       "      <td>...</td>\n",
       "      <td>...</td>\n",
       "      <td>...</td>\n",
       "      <td>...</td>\n",
       "      <td>...</td>\n",
       "      <td>...</td>\n",
       "      <td>...</td>\n",
       "      <td>...</td>\n",
       "      <td>...</td>\n",
       "      <td>...</td>\n",
       "    </tr>\n",
       "    <tr>\n",
       "      <th>283153</th>\n",
       "      <td>-0.325164</td>\n",
       "      <td>1.421391</td>\n",
       "      <td>-0.692028</td>\n",
       "      <td>-1.506948</td>\n",
       "      <td>-0.586452</td>\n",
       "      <td>0.088308</td>\n",
       "      <td>-0.871535</td>\n",
       "      <td>0.439893</td>\n",
       "      <td>0.903346</td>\n",
       "      <td>0.596504</td>\n",
       "      <td>0.545747</td>\n",
       "      <td>0.482187</td>\n",
       "      <td>-0.236519</td>\n",
       "      <td>1.666559</td>\n",
       "      <td>0.640190</td>\n",
       "    </tr>\n",
       "    <tr>\n",
       "      <th>283154</th>\n",
       "      <td>-0.325164</td>\n",
       "      <td>-0.703536</td>\n",
       "      <td>-0.692028</td>\n",
       "      <td>0.663593</td>\n",
       "      <td>-0.586452</td>\n",
       "      <td>-1.291009</td>\n",
       "      <td>-0.828667</td>\n",
       "      <td>0.439893</td>\n",
       "      <td>-0.683615</td>\n",
       "      <td>0.596504</td>\n",
       "      <td>2.474764</td>\n",
       "      <td>-2.073884</td>\n",
       "      <td>-0.236519</td>\n",
       "      <td>0.024347</td>\n",
       "      <td>1.323120</td>\n",
       "    </tr>\n",
       "    <tr>\n",
       "      <th>283155</th>\n",
       "      <td>-0.325164</td>\n",
       "      <td>-0.703536</td>\n",
       "      <td>-0.692028</td>\n",
       "      <td>0.663593</td>\n",
       "      <td>-0.586452</td>\n",
       "      <td>0.015712</td>\n",
       "      <td>0.349463</td>\n",
       "      <td>0.439893</td>\n",
       "      <td>0.903346</td>\n",
       "      <td>-1.771045</td>\n",
       "      <td>0.545747</td>\n",
       "      <td>0.482187</td>\n",
       "      <td>4.227995</td>\n",
       "      <td>0.571751</td>\n",
       "      <td>0.445067</td>\n",
       "    </tr>\n",
       "    <tr>\n",
       "      <th>283156</th>\n",
       "      <td>-0.325164</td>\n",
       "      <td>-0.703536</td>\n",
       "      <td>-0.692028</td>\n",
       "      <td>0.663593</td>\n",
       "      <td>-0.586452</td>\n",
       "      <td>0.306095</td>\n",
       "      <td>-0.538382</td>\n",
       "      <td>0.439893</td>\n",
       "      <td>-1.477096</td>\n",
       "      <td>0.596504</td>\n",
       "      <td>-0.418762</td>\n",
       "      <td>0.482187</td>\n",
       "      <td>-0.236519</td>\n",
       "      <td>0.024347</td>\n",
       "      <td>-1.311040</td>\n",
       "    </tr>\n",
       "    <tr>\n",
       "      <th>283157</th>\n",
       "      <td>-0.325164</td>\n",
       "      <td>-0.703536</td>\n",
       "      <td>-0.692028</td>\n",
       "      <td>-1.506948</td>\n",
       "      <td>-0.586452</td>\n",
       "      <td>0.088308</td>\n",
       "      <td>0.341772</td>\n",
       "      <td>0.439893</td>\n",
       "      <td>-1.477096</td>\n",
       "      <td>-1.771045</td>\n",
       "      <td>-0.418762</td>\n",
       "      <td>0.482187</td>\n",
       "      <td>-0.236519</td>\n",
       "      <td>0.024347</td>\n",
       "      <td>-1.213479</td>\n",
       "    </tr>\n",
       "  </tbody>\n",
       "</table>\n",
       "<p>283158 rows × 15 columns</p>\n",
       "</div>"
      ],
      "text/plain": [
       "        Loan Type    Gender  Have a car?  Have a house  Number of Children  \\\n",
       "0       -0.325164  1.421391    -0.692028      0.663593           -0.586452   \n",
       "1       -0.325164 -0.703536    -0.692028     -1.506948           -0.586452   \n",
       "2        3.075369  1.421391     1.445029      0.663593           -0.586452   \n",
       "3       -0.325164 -0.703536    -0.692028      0.663593           -0.586452   \n",
       "4       -0.325164  1.421391    -0.692028      0.663593           -0.586452   \n",
       "...           ...       ...          ...           ...                 ...   \n",
       "283153  -0.325164  1.421391    -0.692028     -1.506948           -0.586452   \n",
       "283154  -0.325164 -0.703536    -0.692028      0.663593           -0.586452   \n",
       "283155  -0.325164 -0.703536    -0.692028      0.663593           -0.586452   \n",
       "283156  -0.325164 -0.703536    -0.692028      0.663593           -0.586452   \n",
       "283157  -0.325164 -0.703536    -0.692028     -1.506948           -0.586452   \n",
       "\n",
       "        Total Income  Amount of Credit  Suite Type  Income Type  \\\n",
       "0           0.814264         -0.433043    0.439893     0.903346   \n",
       "1           1.903199          2.127243   -2.372717    -0.286875   \n",
       "2          -1.363605         -1.217081    0.439893     0.903346   \n",
       "3          -0.274670         -0.704153    0.439893     0.903346   \n",
       "4          -0.492457         -0.125884    0.439893     0.903346   \n",
       "...              ...               ...         ...          ...   \n",
       "283153      0.088308         -0.871535    0.439893     0.903346   \n",
       "283154     -1.291009         -0.828667    0.439893    -0.683615   \n",
       "283155      0.015712          0.349463    0.439893     0.903346   \n",
       "283156      0.306095         -0.538382    0.439893    -1.477096   \n",
       "283157      0.088308          0.341772    0.439893    -1.477096   \n",
       "\n",
       "        Education Type  Family Status  Have a phone?  Have a mail?  \\\n",
       "0             0.596504       1.510255       0.482187     -0.236519   \n",
       "1            -1.771045      -0.418762       0.482187     -0.236519   \n",
       "2             0.596504       1.510255       0.482187     -0.236519   \n",
       "3             0.596504      -1.383270       0.482187     -0.236519   \n",
       "4             0.596504       1.510255       0.482187     -0.236519   \n",
       "...                ...            ...            ...           ...   \n",
       "283153        0.596504       0.545747       0.482187     -0.236519   \n",
       "283154        0.596504       2.474764      -2.073884     -0.236519   \n",
       "283155       -1.771045       0.545747       0.482187      4.227995   \n",
       "283156        0.596504      -0.418762       0.482187     -0.236519   \n",
       "283157       -1.771045      -0.418762       0.482187     -0.236519   \n",
       "\n",
       "        Profession  Organization  \n",
       "0         0.024347     -1.213479  \n",
       "1        -1.344164      0.445067  \n",
       "2         0.024347     -0.920794  \n",
       "3         0.024347     -1.213479  \n",
       "4        -1.344164      0.347505  \n",
       "...            ...           ...  \n",
       "283153    1.666559      0.640190  \n",
       "283154    0.024347      1.323120  \n",
       "283155    0.571751      0.445067  \n",
       "283156    0.024347     -1.311040  \n",
       "283157    0.024347     -1.213479  \n",
       "\n",
       "[283158 rows x 15 columns]"
      ]
     },
     "execution_count": 13,
     "metadata": {},
     "output_type": "execute_result"
    }
   ],
   "source": [
    "X"
   ]
  },
  {
   "cell_type": "code",
   "execution_count": 14,
   "id": "bce6bac7",
   "metadata": {},
   "outputs": [
    {
     "data": {
      "image/png": "[encoded data removed]",
      "text/plain": [
       "<Figure size 792x648 with 2 Axes>"
      ]
     },
     "metadata": {
      "needs_background": "light"
     },
     "output_type": "display_data"
    }
   ],
   "source": [
    "f, ax = plt.subplots(figsize=(11, 9))\n",
    "sns.heatmap(df.corr())\n",
    "plt.show()"
   ]
  },
  {
   "cell_type": "code",
   "execution_count": 15,
   "id": "75f3442d",
   "metadata": {},
   "outputs": [],
   "source": [
    "from sklearn.model_selection import train_test_split\n",
    "from sklearn.ensemble import RandomForestClassifier\n",
    "from sklearn.neighbors import KNeighborsClassifier\n",
    "from sklearn.svm import SVC\n",
    "from sklearn.metrics import accuracy_score, confusion_matrix"
   ]
  },
  {
   "cell_type": "code",
   "execution_count": 16,
   "id": "9403b55f",
   "metadata": {},
   "outputs": [],
   "source": [
    "X_train, X_test, y_train, y_test = train_test_split(X,y, test_size=0.25,random_state=0)"
   ]
  },
  {
   "cell_type": "code",
   "execution_count": 17,
   "id": "8e71934b",
   "metadata": {},
   "outputs": [
    {
     "name": "stderr",
     "output_type": "stream",
     "text": [
      "<ipython-input-17-0e58583a5770>:2: DataConversionWarning: A column-vector y was passed when a 1d array was expected. Please change the shape of y to (n_samples,), for example using ravel().\n",
      "  rfc.fit(X_train,y_train)\n"
     ]
    }
   ],
   "source": [
    "rfc = RandomForestClassifier(n_estimators=3)\n",
    "rfc.fit(X_train,y_train)\n",
    "pred = rfc.predict(X_test)\n"
   ]
  },
  {
   "cell_type": "code",
   "execution_count": 18,
   "id": "0f80e523",
   "metadata": {},
   "outputs": [
    {
     "data": {
      "text/plain": [
       "array([[62700,  2369],\n",
       "       [ 5457,   264]], dtype=int64)"
      ]
     },
     "execution_count": 18,
     "metadata": {},
     "output_type": "execute_result"
    }
   ],
   "source": [
    "confusion_matrix(y_test,pred)"
   ]
  },
  {
   "cell_type": "code",
   "execution_count": 19,
   "id": "d4f9216c",
   "metadata": {},
   "outputs": [
    {
     "data": {
      "text/plain": [
       "0.8894476620991666"
      ]
     },
     "execution_count": 19,
     "metadata": {},
     "output_type": "execute_result"
    }
   ],
   "source": [
    "accuracy_score(y_test,pred)"
   ]
  },
  {
   "cell_type": "code",
   "execution_count": null,
   "id": "cf5462a9",
   "metadata": {},
   "outputs": [
    {
     "name": "stderr",
     "output_type": "stream",
     "text": [
      "C:\\Users\\Huseyn\\anaconda3\\lib\\site-packages\\sklearn\\utils\\validation.py:63: DataConversionWarning: A column-vector y was passed when a 1d array was expected. Please change the shape of y to (n_samples, ), for example using ravel().\n",
      "  return f(*args, **kwargs)\n"
     ]
    }
   ],
   "source": [
    "svc = SVC()\n",
    "svc.fit(X_train,y_train)\n",
    "pred = svc.predict(X_test)\n"
   ]
  },
  {
   "cell_type": "code",
   "execution_count": null,
   "id": "85efd835",
   "metadata": {},
   "outputs": [],
   "source": [
    "confusion_matrix(y_test,pred)"
   ]
  },
  {
   "cell_type": "code",
   "execution_count": null,
   "id": "0556c696",
   "metadata": {},
   "outputs": [],
   "source": [
    "accuracy_score(y_test,pred)"
   ]
  },
  {
   "cell_type": "code",
   "execution_count": null,
   "id": "4e692450",
   "metadata": {},
   "outputs": [],
   "source": [
    "svc = KNeighborsClassifier()\n",
    "svc.fit(X_train,y_train)\n",
    "pred = svc.predict(X_test)"
   ]
  },
  {
   "cell_type": "code",
   "execution_count": null,
   "id": "0c7c18fa",
   "metadata": {},
   "outputs": [],
   "source": [
    "confusion_matrix(y_test,pred)"
   ]
  },
  {
   "cell_type": "code",
   "execution_count": null,
   "id": "24f95a10",
   "metadata": {},
   "outputs": [],
   "source": [
    "accuracy_score(y_test,pred)"
   ]
  },
  {
   "cell_type": "code",
   "execution_count": null,
   "id": "76c65080",
   "metadata": {},
   "outputs": [],
   "source": []
  },
  {
   "cell_type": "code",
   "execution_count": null,
   "id": "52b47dbb",
   "metadata": {},
   "outputs": [],
   "source": []
  },
  {
   "cell_type": "code",
   "execution_count": null,
   "id": "58b09073",
   "metadata": {},
   "outputs": [],
   "source": []
  },
  {
   "cell_type": "code",
   "execution_count": null,
   "id": "389a9113",
   "metadata": {},
   "outputs": [],
   "source": [
    "error_rate = []\n",
    "\n",
    "for i in range(1,10):\n",
    "    knn = KNeighborsClassifier(n_neighbors=i)\n",
    "    knn.fit(X_train, y_train)\n",
    "    pred = knn.predict(X_test)\n",
    "    error_rate.append(np.mean(pred != y_test))\n",
    "\n",
    "plt.figure(figsize=(15,10))\n",
    "plt.plot(range(1,10),error_rate, marker='o', markersize=9)"
   ]
  },
  {
   "cell_type": "code",
   "execution_count": null,
   "id": "bbf58e74",
   "metadata": {},
   "outputs": [],
   "source": []
  },
  {
   "cell_type": "code",
   "execution_count": null,
   "id": "ec6f1ad0",
   "metadata": {},
   "outputs": [],
   "source": []
  },
  {
   "cell_type": "code",
   "execution_count": null,
   "id": "3b20b53e",
   "metadata": {},
   "outputs": [],
   "source": []
  },
  {
   "cell_type": "code",
   "execution_count": null,
   "id": "a02fb78c",
   "metadata": {},
   "outputs": [],
   "source": []
  }
 ],
 "metadata": {
  "kernelspec": {
   "display_name": "Python 3",
   "language": "python",
   "name": "python3"
  },
  "language_info": {
   "codemirror_mode": {
    "name": "ipython",
    "version": 3
   },
   "file_extension": ".py",
   "mimetype": "text/x-python",
   "name": "python",
   "nbconvert_exporter": "python",
   "pygments_lexer": "ipython3",
   "version": "3.8.8"
  }
 },
 "nbformat": 4,
 "nbformat_minor": 5
}
